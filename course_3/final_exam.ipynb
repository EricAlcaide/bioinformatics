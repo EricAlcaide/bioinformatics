{
 "cells": [
  {
   "cell_type": "code",
   "execution_count": 1,
   "metadata": {},
   "outputs": [],
   "source": [
    "\"\"\" This notebook will be used for the final exam \n",
    "    of the Course #3 of the Genomic Data Science\n",
    "    Coursera specialization by the John Hopkins University.\n",
    "\"\"\"\n",
    "\n",
    "filename = \"dna.example.fasta\""
   ]
  },
  {
   "cell_type": "code",
   "execution_count": 2,
   "metadata": {},
   "outputs": [
    {
     "name": "stdout",
     "output_type": "stream",
     "text": [
      "gi|142022655|gb|EQ086233.1|43  : TCGGGCGAAGGCGGCAGCAAGTCGTCCACGCGCAGCGCGGCACCGCGGGCCTCTGCCGTGCGCTGCTTGGCCATGGCCTCCAGCGCACCGATCGGATCAAAGCCGCTGAAGCCTTCGCGCATCAGGCGGCCATAGTTGGCGCCAGTGACCGTACCAACCGCCTTGATGCGGCGCTCGGTCATCGCTGCATTGATCGAGTAGCCACCGCCGCCGCAAATGCCCAGCACGCCAATGCGTTCTTCATCCACATAGGGGAGCGTTACGAGGTAGTCGCAGACCACGCGGAAATCCTCGACGCGCAGTGTCGGGTCTTCGGTAAAACGTGGTTCGCCGCCGCTGGCACCCTGGAAGCTGGCGTCGAAGGCGATGACGACGAAACCTTCCTTGGCCAGCGCCTCGCCATACACGTTCCCCGATGTTTGCTCCTTGCAGCTGCCGATCGGATGCGCGCTGATGATGGCGGGATATTTCTTGCCTTCGTCGAAGTTCGGCGGGAAGTGGATGTCGGCTGCGATATCCCAATACACATTCTTGATCTTGACGCTTTTCATGACAGCTCCGTTCAGGGGGAGGGGGTAAGTTCGCCAGGCCGAATCGTTGGTAGCCAAGCGGCAACGACTCGAATATAGAGAGCCGATTGGAATTCCGTAAGATCGCAATCTGGACTACAGTGGTATCTTCAAATTGACAATGGCACCTACATGGATCCCTCACTGCTTCCGTCTCTCGCGTGGTTCGCCCACGTCGCACATCATCGTAGCTTCACGAAAGCGGCTGCGGAAATGGGCGTTTCTCGAGCAAACCTGTCGCAGAACGTGAAGGCGCTCGAACGCCGGTTGAACGTCAAGCTGCTGTATCGAACGACTCGCGACATGTCGCTGACCGAGGAGGGGCAGCGGCTCTACGAGGTGTGGTATCCCGCGCTGGTCGCGGTCGAGCGGACGGTCGACGCGCTGCACGAGGAGCGCGACGAGCCGTCGGGGTTGATTC\n"
     ]
    }
   ],
   "source": [
    "# Getting data from the FastA file\n",
    "seqs = {}\n",
    "f = open(filename, \"r\")\n",
    "for line in f:\n",
    "    line = line.rstrip()\n",
    "    if line[0] == \">\":\n",
    "        name = line[1:].split()[0]\n",
    "        seqs[name] = \"\"\n",
    "    else: \n",
    "        seqs[name] += line\n",
    "f.close()\n",
    "print(list(seqs.keys())[0], \" :\", seqs[list(seqs.keys())[0]])"
   ]
  },
  {
   "cell_type": "code",
   "execution_count": 3,
   "metadata": {},
   "outputs": [
    {
     "name": "stdout",
     "output_type": "stream",
     "text": [
      "25\n"
     ]
    }
   ],
   "source": [
    "# Answer to Question#1 - how many entries in the file?\n",
    "print(len(list(seqs.keys())))"
   ]
  },
  {
   "cell_type": "code",
   "execution_count": 8,
   "metadata": {},
   "outputs": [
    {
     "name": "stdout",
     "output_type": "stream",
     "text": [
      "Sortest: 512 || Longest: 4805 \n",
      "[990, 1608, 2863, 3072, 691, 4805, 3832, 2124, 3276, 3080, 1801, 512, 1451, 1663, 2478, 1189, 3603, 724, 2449, 3424, 4745, 555, 1325, 1810, 1712]\n"
     ]
    }
   ],
   "source": [
    "# Answer to Question#2 - length of entries (longest/shortest)?\n",
    "l = [len(seqs[k]) for k in seqs.keys()]\n",
    "print(\"Sortest: {0} || Longest: {1} \".format(min(l), max(l)))\n",
    "print(l)"
   ]
  },
  {
   "cell_type": "code",
   "execution_count": 149,
   "metadata": {},
   "outputs": [],
   "source": [
    "# Answer to Question#3 - ORFs features? - STILL GOTTA FIND THE INDEX!!!\n",
    "def read_seq(seq, frame=3):\n",
    "    ORF = []\n",
    "    aux = 0\n",
    "    seq = [seq[i:i+3] for i in range(frame-1,len(seq)//3)]\n",
    "    dna = seq[:]\n",
    "    print(seq)\n",
    "    n_starts = seq.count(\"ATG\")\n",
    "    print(\"\\nPotential number of ORFs: \", n_starts, \"\\n\")\n",
    "    # Find all ORFs\n",
    "    while \"ATG\" in seq:\n",
    "        start = seq.index(\"ATG\")\n",
    "        seq = seq[start+1:]\n",
    "        aux += start\n",
    "        stop = min([seq.index(stop) for stop in [\"TAA\", \"TAG\", \"TGA\"] if stop in seq])\n",
    "        \n",
    "        ORF.append([(aux+2)*3+frame-1, ''.join(dna[aux:aux+stop+2])])\n",
    "        print(aux, aux+stop+1, dna[aux:aux+stop+2])\n",
    "        aux += 1\n",
    "        \n",
    "    return ORF"
   ]
  },
  {
   "cell_type": "code",
   "execution_count": 150,
   "metadata": {},
   "outputs": [
    {
     "name": "stdout",
     "output_type": "stream",
     "text": [
      "TCGGGCGAAGGCGGCAGCAAGTCGTCCACGCGCAGCGCGGCACCGCGGGCCTCTGCCGTGCGCTGCTTGGCCATGGCCTCCAGCGCACCGATCGGATCAAAGCCGCTGAAGCCTTCGCGCATCAGGCGGCCATAGTTGGCGCCAGTGACCGTACCAACCGCCTTGATGCGGCGCTCGGTCATCGCTGCATTGATCGAGTAGCCACCGCCGCCGCAAATGCCCAGCACGCCAATGCGTTCTTCATCCACATAGGGGAGCGTTACGAGGTAGTCGCAGACCACGCGGAAATCCTCGACGCGCAGTGTCGGGTCTTCGGTAAAACGTGGTTCGCCGCCGCTGGCACCCTGGAAGCTGGCGTCGAAGGCGATGACGACGAAACCTTCCTTGGCCAGCGCCTCGCCATACACGTTCCCCGATGTTTGCTCCTTGCAGCTGCCGATCGGATGCGCGCTGATGATGGCGGGATATTTCTTGCCTTCGTCGAAGTTCGGCGGGAAGTGGATGTCGGCTGCGATATCCCAATACACATTCTTGATCTTGACGCTTTTCATGACAGCTCCGTTCAGGGGGAGGGGGTAAGTTCGCCAGGCCGAATCGTTGGTAGCCAAGCGGCAACGACTCGAATATAGAGAGCCGATTGGAATTCCGTAAGATCGCAATCTGGACTACAGTGGTATCTTCAAATTGACAATGGCACCTACATGGATCCCTCACTGCTTCCGTCTCTCGCGTGGTTCGCCCACGTCGCACATCATCGTAGCTTCACGAAAGCGGCTGCGGAAATGGGCGTTTCTCGAGCAAACCTGTCGCAGAACGTGAAGGCGCTCGAACGCCGGTTGAACGTCAAGCTGCTGTATCGAACGACTCGCGACATGTCGCTGACCGAGGAGGGGCAGCGGCTCTACGAGGTGTGGTATCCCGCGCTGGTCGCGGTCGAGCGGACGGTCGACGCGCTGCACGAGGAGCGCGACGAGCCGTCGGGGTTGATTC\n",
      "['GGG', 'GGC', 'GCG', 'CGA', 'GAA', 'AAG', 'AGG', 'GGC', 'GCG', 'CGG', 'GGC', 'GCA', 'CAG', 'AGC', 'GCA', 'CAA', 'AAG', 'AGT', 'GTC', 'TCG', 'CGT', 'GTC', 'TCC', 'CCA', 'CAC', 'ACG', 'CGC', 'GCG', 'CGC', 'GCA', 'CAG', 'AGC', 'GCG', 'CGC', 'GCG', 'CGG', 'GGC', 'GCA', 'CAC', 'ACC', 'CCG', 'CGC', 'GCG', 'CGG', 'GGG', 'GGC', 'GCC', 'CCT', 'CTC', 'TCT', 'CTG', 'TGC', 'GCC', 'CCG', 'CGT', 'GTG', 'TGC', 'GCG', 'CGC', 'GCT', 'CTG', 'TGC', 'GCT', 'CTT', 'TTG', 'TGG', 'GGC', 'GCC', 'CCA', 'CAT', 'ATG', 'TGG', 'GGC', 'GCC', 'CCT', 'CTC', 'TCC', 'CCA', 'CAG', 'AGC', 'GCG', 'CGC', 'GCA', 'CAC', 'ACC', 'CCG', 'CGA', 'GAT', 'ATC', 'TCG', 'CGG', 'GGA', 'GAT', 'ATC', 'TCA', 'CAA', 'AAA', 'AAG', 'AGC', 'GCC', 'CCG', 'CGC', 'GCT', 'CTG', 'TGA', 'GAA', 'AAG', 'AGC', 'GCC', 'CCT', 'CTT', 'TTC', 'TCG', 'CGC', 'GCG', 'CGC', 'GCA', 'CAT', 'ATC', 'TCA', 'CAG', 'AGG', 'GGC', 'GCG', 'CGG', 'GGC', 'GCC', 'CCA', 'CAT', 'ATA', 'TAG', 'AGT', 'GTT', 'TTG', 'TGG', 'GGC', 'GCG', 'CGC', 'GCC', 'CCA', 'CAG', 'AGT', 'GTG', 'TGA', 'GAC', 'ACC', 'CCG', 'CGT', 'GTA', 'TAC', 'ACC', 'CCA', 'CAA', 'AAC', 'ACC', 'CCG', 'CGC', 'GCC', 'CCT', 'CTT', 'TTG', 'TGA', 'GAT', 'ATG', 'TGC', 'GCG', 'CGG', 'GGC', 'GCG', 'CGC', 'GCT', 'CTC', 'TCG', 'CGG', 'GGT', 'GTC', 'TCA', 'CAT', 'ATC', 'TCG', 'CGC', 'GCT', 'CTG', 'TGC', 'GCA', 'CAT', 'ATT', 'TTG', 'TGA', 'GAT', 'ATC', 'TCG', 'CGA', 'GAG', 'AGT', 'GTA', 'TAG', 'AGC', 'GCC', 'CCA', 'CAC', 'ACC', 'CCG', 'CGC', 'GCC', 'CCG', 'CGC', 'GCC', 'CCG', 'CGC', 'GCA', 'CAA', 'AAA', 'AAT', 'ATG', 'TGC', 'GCC', 'CCC', 'CCA', 'CAG', 'AGC', 'GCA', 'CAC', 'ACG', 'CGC', 'GCC', 'CCA', 'CAA', 'AAT', 'ATG', 'TGC', 'GCG', 'CGT', 'GTT', 'TTC', 'TCT', 'CTT', 'TTC', 'TCA', 'CAT', 'ATC', 'TCC', 'CCA', 'CAC', 'ACA', 'CAT', 'ATA', 'TAG', 'AGG', 'GGG', 'GGG', 'GGA', 'GAG', 'AGC', 'GCG', 'CGT', 'GTT', 'TTA', 'TAC', 'ACG', 'CGA', 'GAG', 'AGG', 'GGT', 'GTA', 'TAG', 'AGT', 'GTC', 'TCG', 'CGC', 'GCA', 'CAG', 'AGA', 'GAC', 'ACC', 'CCA', 'CAC', 'ACG', 'CGC', 'GCG', 'CGG', 'GGA', 'GAA', 'AAA', 'AAT', 'ATC', 'TCC', 'CCT', 'CTC', 'TCG', 'CGA', 'GAC', 'ACG', 'CGC', 'GCG', 'CGC', 'GCA', 'CAG', 'AGT', 'GTG', 'TGT', 'GTC', 'TCG', 'CGG', 'GGG', 'GGT', 'GTC', 'TCT', 'CTT', 'TTC', 'TCG', 'CGG', 'GGT', 'GTA', 'TAA', 'AAA', 'AAA', 'AAC', 'ACG', 'CGT', 'GTG', 'TGG', 'GGT', 'GTT', 'TTC', 'TCG', 'CGC', 'GCC']\n",
      "\n",
      "Potential number of ORFs:  4 \n",
      "\n",
      "70 104 ['ATG', 'TGG', 'GGC', 'GCC', 'CCT', 'CTC', 'TCC', 'CCA', 'CAG', 'AGC', 'GCG', 'CGC', 'GCA', 'CAC', 'ACC', 'CCG', 'CGA', 'GAT', 'ATC', 'TCG', 'CGG', 'GGA', 'GAT', 'ATC', 'TCA', 'CAA', 'AAA', 'AAG', 'AGC', 'GCC', 'CCG', 'CGC', 'GCT', 'CTG', 'TGA']\n",
      "163 188 ['ATG', 'TGC', 'GCG', 'CGG', 'GGC', 'GCG', 'CGC', 'GCT', 'CTC', 'TCG', 'CGG', 'GGT', 'GTC', 'TCA', 'CAT', 'ATC', 'TCG', 'CGC', 'GCT', 'CTG', 'TGC', 'GCA', 'CAT', 'ATT', 'TTG', 'TGA']\n",
      "214 247 ['ATG', 'TGC', 'GCC', 'CCC', 'CCA', 'CAG', 'AGC', 'GCA', 'CAC', 'ACG', 'CGC', 'GCC', 'CCA', 'CAA', 'AAT', 'ATG', 'TGC', 'GCG', 'CGT', 'GTT', 'TTC', 'TCT', 'CTT', 'TTC', 'TCA', 'CAT', 'ATC', 'TCC', 'CCA', 'CAC', 'ACA', 'CAT', 'ATA', 'TAG']\n",
      "229 247 ['ATG', 'TGC', 'GCG', 'CGT', 'GTT', 'TTC', 'TCT', 'CTT', 'TTC', 'TCA', 'CAT', 'ATC', 'TCC', 'CCA', 'CAC', 'ACA', 'CAT', 'ATA', 'TAG']\n",
      "\n",
      " [[218, 'ATGTGGGGCGCCCCTCTCTCCCCACAGAGCGCGCGCGCACACACCCCGCGAGATATCTCGCGGGGAGATATCTCACAAAAAAAGAGCGCCCCGCGCGCTCTGTGA'], [497, 'ATGTGCGCGCGGGGCGCGCGCGCTCTCTCGCGGGGTGTCTCACATATCTCGCGCGCTCTGTGCGCACATATTTTGTGA'], [650, 'ATGTGCGCCCCCCCACAGAGCGCACACACGCGCGCCCCACAAAATATGTGCGCGCGTGTTTTCTCTCTTTTCTCACATATCTCCCCACACACACATATATAG'], [695, 'ATGTGCGCGCGTGTTTTCTCTCTTTTCTCACATATCTCCCCACACACACATATATAG']]\n"
     ]
    }
   ],
   "source": [
    "trial = list(seqs.keys())[0]\n",
    "print(seqs[trial])\n",
    "orfs = read_seq(seqs[trial], 3)\n",
    "print(\"\\n\", orfs)"
   ]
  },
  {
   "cell_type": "code",
   "execution_count": 154,
   "metadata": {},
   "outputs": [
    {
     "name": "stdout",
     "output_type": "stream",
     "text": [
      "GCCACCGCCGCCGCAAATGCCCAGCACGCC\n"
     ]
    }
   ],
   "source": [
    "trial = list(seqs.keys())[0]\n",
    "print(seqs[trial][200:230])"
   ]
  },
  {
   "cell_type": "code",
   "execution_count": 116,
   "metadata": {},
   "outputs": [],
   "source": [
    "# Answer to Question#4 - Repeats in forward strands?\n",
    "def find_repeat_seq(seq, l):\n",
    "    seen, counter = set(), {}\n",
    "    for i in range(len(seq)-l):\n",
    "        part = seq[i:i+l]\n",
    "        if part in seen:\n",
    "            counter[part] += 1\n",
    "        else: \n",
    "            seen.add(part)\n",
    "            counter[part] = 1\n",
    "    \n",
    "    return counter  \n",
    "\n",
    "def find_repeat_multiseq(seqs, l):\n",
    "    seen, counter = set(), {}\n",
    "    for seq in seqs.values():\n",
    "        for i in range(len(seq)-l):\n",
    "            part = seq[i:i+l]\n",
    "            if part in seen:\n",
    "                counter[part] += 1\n",
    "            else: \n",
    "                seen.add(part)\n",
    "                counter[part] = 1\n",
    "    \n",
    "    return counter  "
   ]
  },
  {
   "cell_type": "code",
   "execution_count": 28,
   "metadata": {},
   "outputs": [
    {
     "name": "stdout",
     "output_type": "stream",
     "text": [
      "['GCTCGTGCTCGTGCTCG', 2]\n",
      "['CCGTGCCGGCCGGCAAC', 2]\n",
      "['ACCGTGCCGGCCGGCAA', 2]\n",
      "['CCAGCGCGAACGCGCCG', 2]\n",
      "['TGCTCGTGCTCGTGCTC', 2]\n",
      "['CCCAGTAGCGATGGCCG', 2]\n",
      "['GCGGCGTCCGGCGCGTC', 2]\n",
      "['ACCAGCGCGAACGCGCC', 2]\n",
      "['GACCAGCGCGAACGCGC', 2]\n",
      "['CTTTGCAATCGATCTCG', 1]\n",
      "9\n"
     ]
    }
   ],
   "source": [
    "reps = find_repeat_multiseq(seqs, 17)\n",
    "ordered = [[k, reps[k]] for k in reps.keys()]\n",
    "ordered = [score for score in sorted(ordered, key=lambda x: x[-1], reverse=True)]\n",
    "for i in range(10):\n",
    "    print(ordered[i])\n",
    "\n",
    "print(len([x for x in ordered if x[-1]>1]))"
   ]
  },
  {
   "cell_type": "code",
   "execution_count": null,
   "metadata": {},
   "outputs": [],
   "source": []
  },
  {
   "cell_type": "code",
   "execution_count": null,
   "metadata": {},
   "outputs": [],
   "source": []
  },
  {
   "cell_type": "code",
   "execution_count": null,
   "metadata": {},
   "outputs": [],
   "source": []
  },
  {
   "cell_type": "code",
   "execution_count": null,
   "metadata": {},
   "outputs": [],
   "source": [
    "for n in range(n_starts):\n",
    "        start = seq.find(\"ATG\")\n",
    "        if start%3 == frame:\n",
    "            stop = start+min(seq[start:].find(\"TAA\"), seq[start:].find(\"TAG\"), seq[start:].find(\"TGA\"))\n",
    "            print(aux+start, aux+stop)\n",
    "            print(seq[start:stop])\n",
    "        seq = seq[start+3:]\n",
    "        aux += start+3"
   ]
  }
 ],
 "metadata": {
  "kernelspec": {
   "display_name": "Python 3",
   "language": "python",
   "name": "python3"
  },
  "language_info": {
   "codemirror_mode": {
    "name": "ipython",
    "version": 3
   },
   "file_extension": ".py",
   "mimetype": "text/x-python",
   "name": "python",
   "nbconvert_exporter": "python",
   "pygments_lexer": "ipython3",
   "version": "3.5.3"
  }
 },
 "nbformat": 4,
 "nbformat_minor": 2
}
